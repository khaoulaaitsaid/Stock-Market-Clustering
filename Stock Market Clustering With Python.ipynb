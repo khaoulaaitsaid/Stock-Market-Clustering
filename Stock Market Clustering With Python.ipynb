{
 "cells": [
  {
   "cell_type": "code",
   "execution_count": 14,
   "id": "8d264121-37c4-4054-8a2e-ae03b8b4d6f9",
   "metadata": {},
   "outputs": [
    {
     "name": "stdout",
     "output_type": "stream",
     "text": [
      "[*********************100%%**********************]  30 of 30 completed\n",
      "    Cluster Tickers\n",
      "19        0     MMM\n",
      "28        0     WBA\n",
      "6         0    CSCO\n",
      "13        0     IBM\n",
      "12        0     HON\n",
      "11        0      HD\n",
      "0         1    AAPL\n",
      "26        1       V\n",
      "22        1     NKE\n",
      "21        1    MSFT\n",
      "14        1    INTC\n",
      "8         1     DIS\n",
      "5         1     CRM\n",
      "3         1      BA\n",
      "29        2     WMT\n",
      "27        2      VZ\n",
      "23        2      PG\n",
      "17        2      KO\n",
      "18        2     MCD\n",
      "24        3     TRV\n",
      "2         3     AXP\n",
      "9         3     DOW\n",
      "4         3     CAT\n",
      "16        3     JPM\n",
      "7         3     CVX\n",
      "10        3      GS\n",
      "15        4     JNJ\n",
      "25        4     UNH\n",
      "1         4    AMGN\n",
      "20        4     MRK\n"
     ]
    },
    {
     "name": "stderr",
     "output_type": "stream",
     "text": [
      "C:\\Users\\FUJITSU\\AppData\\Roaming\\Python\\Python311\\site-packages\\sklearn\\cluster\\_kmeans.py:1416: FutureWarning: The default value of `n_init` will change from 10 to 'auto' in 1.4. Set the value of `n_init` explicitly to suppress the warning\n",
      "  super()._check_params_vs_input(X, default_n_init=10)\n"
     ]
    }
   ],
   "source": [
    "import pandas as pd\n",
    "import numpy as np\n",
    "import datetime as dt\n",
    "import yfinance as yf\n",
    "from sklearn.preprocessing import Normalizer\n",
    "from sklearn.pipeline import make_pipeline\n",
    "from sklearn.cluster import KMeans\n",
    "from yahoo_fin import stock_info as si\n",
    "\n",
    "# Obtenez la liste des symboles Dow 30\n",
    "companies_dow30 = si.tickers_dow()\n",
    "\n",
    "start = dt.datetime.now() - dt.timedelta(days=365 * 2)\n",
    "end = dt.datetime.now()\n",
    "\n",
    "# Récupérez les données historiques pour chaque symbole\n",
    "data = yf.download(list(dow_tickers), start=start, end=end)\n",
    "\n",
    "# Calculez les variations quotidiennes\n",
    "open_values = np.array(data['Open'].T)\n",
    "close_values = np.array(data['Close'].T)\n",
    "daily_movement = close_values - open_values  # Correction: 'open-values' à 'open_values'\n",
    "\n",
    "# Définissez le nombre de clusters\n",
    "clusters = 5\n",
    "\n",
    "# Normalisez les données et appliquez le modèle de clustering\n",
    "normalizer = Normalizer()\n",
    "clustering_model = KMeans(n_clusters=clusters, max_iter=1000)\n",
    "\n",
    "pipeline = make_pipeline(normalizer, clustering_model)\n",
    "pipeline.fit(daily_movement)\n",
    "clusters = pipeline.predict(daily_movement)\n",
    "\n",
    "# Assurez-vous que les clusters et les symboles ont la même longueur\n",
    "if len(clusters) == len(dow_tickers):\n",
    "    # Créez un DataFrame de résultats\n",
    "    results = pd.DataFrame({\n",
    "        'Cluster': clusters,\n",
    "        'Tickers': list(companies_dow30)\n",
    "    }).sort_values(by=['Cluster'], axis=0)\n",
    "    print(results)\n",
    "else:\n",
    "    print(\"Les clusters et les symboles n'ont pas la même longueur.\")\n"
   ]
  },
  {
   "cell_type": "code",
   "execution_count": null,
   "id": "d9cd39c7-2696-4c6f-96c5-ac9b6d88330c",
   "metadata": {},
   "outputs": [],
   "source": []
  },
  {
   "cell_type": "code",
   "execution_count": null,
   "id": "316bc72c-4330-4bc3-bbf4-fac234a526c2",
   "metadata": {},
   "outputs": [],
   "source": []
  }
 ],
 "metadata": {
  "kernelspec": {
   "display_name": "Python 3 (ipykernel)",
   "language": "python",
   "name": "python3"
  },
  "language_info": {
   "codemirror_mode": {
    "name": "ipython",
    "version": 3
   },
   "file_extension": ".py",
   "mimetype": "text/x-python",
   "name": "python",
   "nbconvert_exporter": "python",
   "pygments_lexer": "ipython3",
   "version": "3.11.3"
  }
 },
 "nbformat": 4,
 "nbformat_minor": 5
}
